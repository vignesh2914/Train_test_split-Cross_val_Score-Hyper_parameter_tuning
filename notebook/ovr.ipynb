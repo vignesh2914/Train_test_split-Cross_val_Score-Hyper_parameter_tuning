{
 "cells": [
  {
   "cell_type": "code",
   "execution_count": 1,
   "metadata": {},
   "outputs": [],
   "source": [
    "import pandas as pd\n",
    "import numpy as np\n",
    "from sklearn.linear_model import LogisticRegression\n",
    "from sklearn.svm import SVC\n",
    "from sklearn.ensemble import RandomForestClassifier\n",
    "from sklearn.model_selection import train_test_split\n",
    "from sklearn.model_selection import cross_val_score\n",
    "from sklearn.datasets import load_digits\n",
    "from sklearn.multiclass import OneVsRestClassifier\n",
    "\n",
    "\n",
    "digits = load_digits()"
   ]
  },
  {
   "cell_type": "code",
   "execution_count": 2,
   "metadata": {},
   "outputs": [],
   "source": [
    "from sklearn.model_selection import train_test_split\n",
    "X_train, X_test, y_train, y_test = train_test_split(digits.data,digits.target,test_size=0.3)\n"
   ]
  },
  {
   "cell_type": "code",
   "execution_count": 6,
   "metadata": {},
   "outputs": [
    {
     "name": "stdout",
     "output_type": "stream",
     "text": [
      "0.9666666666666667\n"
     ]
    }
   ],
   "source": [
    "lr = OneVsRestClassifier(LogisticRegression(solver='liblinear'))\n",
    "lr.fit(X_train, y_train)\n",
    "lr.score(X_test, y_test)\n",
    "score = lr.score(X_test, y_test)\n",
    "\n",
    "print(score)\n"
   ]
  },
  {
   "cell_type": "markdown",
   "metadata": {},
   "source": [
    "#### Explanation\n",
    "\n",
    "- see the dataset we have 0 to 9 diffrent types labels\n",
    "\n",
    "for example\n",
    "- f1,f2,f3 --> dataset unique types i have\n",
    "- m1,m2,m3 -->thease are my 3 diffrent model will be created\n",
    "If i give ma new test data how will the logisitc regretion find the output?\n",
    "whenever i give new test data the whole funtion \n",
    "\n",
    "            Probability value\n",
    "- f1,f2,f3 X M1 = [ 0.20]\n",
    "- f1,f2,f3 X M2 = [ 0.25]\n",
    "- f1,f2,f3 X M3 = [ 0.55]\n",
    "\n",
    "SUM           = 1\n",
    "\n",
    "#### Conclustion\n",
    "\n",
    "it will check that which model type giv es me highest probability value \n",
    "\n",
    "now my new test data value belongs to M3 = 0.55\n",
    "\n",
    "\n"
   ]
  },
  {
   "cell_type": "code",
   "execution_count": 7,
   "metadata": {},
   "outputs": [
    {
     "name": "stdout",
     "output_type": "stream",
     "text": [
      "Unique labels in the digits dataset: [0 1 2 3 4 5 6 7 8 9]\n"
     ]
    }
   ],
   "source": [
    "from sklearn.datasets import load_digits\n",
    "\n",
    "# Load the dataset\n",
    "digits = load_digits()\n",
    "\n",
    "# Display the unique labels in the dataset\n",
    "unique_labels = np.unique(digits.target)\n",
    "print(\"Unique labels in the digits dataset:\", unique_labels)\n"
   ]
  },
  {
   "cell_type": "code",
   "execution_count": null,
   "metadata": {},
   "outputs": [],
   "source": []
  }
 ],
 "metadata": {
  "kernelspec": {
   "display_name": "venv",
   "language": "python",
   "name": "venv"
  },
  "language_info": {
   "codemirror_mode": {
    "name": "ipython",
    "version": 3
   },
   "file_extension": ".py",
   "mimetype": "text/x-python",
   "name": "python",
   "nbconvert_exporter": "python",
   "pygments_lexer": "ipython3",
   "version": "3.9.19"
  }
 },
 "nbformat": 4,
 "nbformat_minor": 2
}
